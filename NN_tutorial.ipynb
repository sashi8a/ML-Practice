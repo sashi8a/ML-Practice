{
  "nbformat": 4,
  "nbformat_minor": 0,
  "metadata": {
    "colab": {
      "provenance": []
    },
    "kernelspec": {
      "name": "python3",
      "display_name": "Python 3"
    },
    "language_info": {
      "name": "python"
    }
  },
  "cells": [
    {
      "cell_type": "code",
      "execution_count": null,
      "metadata": {
        "id": "Q0h5MkrACG97"
      },
      "outputs": [],
      "source": [
        "import tensorflow as tf\n",
        "from tensorflow import keras"
      ]
    },
    {
      "cell_type": "code",
      "source": [
        "f_data = tf.keras.datasets.mnist"
      ],
      "metadata": {
        "id": "F9-3A4qpCVY8"
      },
      "execution_count": null,
      "outputs": []
    },
    {
      "cell_type": "code",
      "source": [
        "(x_train,y_train), (x_test,y_test) = f_data.load_data()"
      ],
      "metadata": {
        "colab": {
          "base_uri": "https://localhost:8080/"
        },
        "id": "kXgv9_HGCmvS",
        "outputId": "5857fe47-cc8d-402a-e055-0e07ec4bf14a"
      },
      "execution_count": null,
      "outputs": [
        {
          "output_type": "stream",
          "name": "stdout",
          "text": [
            "Downloading data from https://storage.googleapis.com/tensorflow/tf-keras-datasets/mnist.npz\n",
            "11490434/11490434 [==============================] - 1s 0us/step\n"
          ]
        }
      ]
    },
    {
      "cell_type": "code",
      "source": [
        "x_test.shape"
      ],
      "metadata": {
        "colab": {
          "base_uri": "https://localhost:8080/"
        },
        "id": "jrwNpTAUC5ry",
        "outputId": "9e521c63-f3a7-4031-fc19-52efc99bf94b"
      },
      "execution_count": null,
      "outputs": [
        {
          "output_type": "execute_result",
          "data": {
            "text/plain": [
              "(10000, 28, 28)"
            ]
          },
          "metadata": {},
          "execution_count": 4
        }
      ]
    },
    {
      "cell_type": "code",
      "source": [
        "x_train.shape"
      ],
      "metadata": {
        "colab": {
          "base_uri": "https://localhost:8080/"
        },
        "id": "BQ1q1Ka3C_rW",
        "outputId": "deb19d02-9a75-4053-ddb3-3af57c0f5443"
      },
      "execution_count": null,
      "outputs": [
        {
          "output_type": "execute_result",
          "data": {
            "text/plain": [
              "(60000, 28, 28)"
            ]
          },
          "metadata": {},
          "execution_count": 5
        }
      ]
    },
    {
      "cell_type": "code",
      "source": [
        "x_train,x_test = x_train/255,x_test/255"
      ],
      "metadata": {
        "id": "ZWq2l6QpDO4i"
      },
      "execution_count": null,
      "outputs": []
    },
    {
      "cell_type": "markdown",
      "source": [
        "\n",
        "\n",
        "```\n",
        "preproccesing the data^\n",
        "\n",
        "\n",
        "```\n",
        "\n"
      ],
      "metadata": {
        "id": "4UtoHesNK460"
      }
    },
    {
      "cell_type": "code",
      "source": [
        "model = tf.keras.models.Sequential([\n",
        "    tf.keras.layers.Flatten(input_shape = (28,28)),\n",
        "    tf.keras.layers.Dense(128,activation='relu'),\n",
        "    tf.keras.layers.Dropout(.2),\n",
        "    tf.keras.layers.Dense(10, activation='softmax')\n",
        "])"
      ],
      "metadata": {
        "id": "11fwb8c1DUQD"
      },
      "execution_count": null,
      "outputs": []
    },
    {
      "cell_type": "code",
      "source": [
        "model.compile( optimizer = 'adam', loss = 'sparse_categorical_crossentropy', metrics = ['accuracy'])"
      ],
      "metadata": {
        "id": "bz3NrquaEeqJ"
      },
      "execution_count": null,
      "outputs": []
    },
    {
      "cell_type": "code",
      "source": [
        "model.fit(x_train, y_train, batch_size = 20, epochs = 7)"
      ],
      "metadata": {
        "colab": {
          "base_uri": "https://localhost:8080/"
        },
        "id": "XnRlFg_PFXT4",
        "outputId": "8212e89e-63f3-4e16-b66b-f700a4ac08fe"
      },
      "execution_count": null,
      "outputs": [
        {
          "output_type": "stream",
          "name": "stdout",
          "text": [
            "Epoch 1/7\n",
            "3000/3000 [==============================] - 14s 4ms/step - loss: 0.0719 - accuracy: 0.9765\n",
            "Epoch 2/7\n",
            "3000/3000 [==============================] - 13s 4ms/step - loss: 0.0619 - accuracy: 0.9794\n",
            "Epoch 3/7\n",
            "3000/3000 [==============================] - 13s 4ms/step - loss: 0.0562 - accuracy: 0.9813\n",
            "Epoch 4/7\n",
            "3000/3000 [==============================] - 13s 4ms/step - loss: 0.0523 - accuracy: 0.9826\n",
            "Epoch 5/7\n",
            "3000/3000 [==============================] - 13s 4ms/step - loss: 0.0480 - accuracy: 0.9844\n",
            "Epoch 6/7\n",
            "3000/3000 [==============================] - 13s 4ms/step - loss: 0.0441 - accuracy: 0.9848\n",
            "Epoch 7/7\n",
            "3000/3000 [==============================] - 15s 5ms/step - loss: 0.0416 - accuracy: 0.9862\n"
          ]
        },
        {
          "output_type": "execute_result",
          "data": {
            "text/plain": [
              "<keras.callbacks.History at 0x7dd524e5e740>"
            ]
          },
          "metadata": {},
          "execution_count": 12
        }
      ]
    },
    {
      "cell_type": "code",
      "source": [
        "model.evaluate(x_test,y_test)"
      ],
      "metadata": {
        "colab": {
          "base_uri": "https://localhost:8080/"
        },
        "id": "O7g0r9KuHQ-Y",
        "outputId": "c46b30b9-c099-4fbf-a04a-31e0fddcb35f"
      },
      "execution_count": null,
      "outputs": [
        {
          "output_type": "stream",
          "name": "stdout",
          "text": [
            "313/313 [==============================] - 1s 3ms/step - loss: 0.0764 - accuracy: 0.9780\n"
          ]
        },
        {
          "output_type": "execute_result",
          "data": {
            "text/plain": [
              "[0.07642365992069244, 0.9779999852180481]"
            ]
          },
          "metadata": {},
          "execution_count": 13
        }
      ]
    },
    {
      "cell_type": "code",
      "source": [],
      "metadata": {
        "id": "jVuOInINHuPB"
      },
      "execution_count": null,
      "outputs": []
    }
  ]
}