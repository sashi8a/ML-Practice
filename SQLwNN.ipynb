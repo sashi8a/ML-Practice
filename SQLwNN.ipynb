{
  "nbformat": 4,
  "nbformat_minor": 0,
  "metadata": {
    "colab": {
      "provenance": []
    },
    "kernelspec": {
      "name": "python3",
      "display_name": "Python 3"
    },
    "language_info": {
      "name": "python"
    }
  },
  "cells": [
    {
      "cell_type": "code",
      "execution_count": 33,
      "metadata": {
        "colab": {
          "base_uri": "https://localhost:8080/"
        },
        "id": "ioURHoykYqTy",
        "outputId": "a2602490-a15b-4035-fa8f-e6fbe3a84a88"
      },
      "outputs": [
        {
          "output_type": "stream",
          "name": "stderr",
          "text": [
            "/usr/local/lib/python3.10/dist-packages/sklearn/datasets/_openml.py:968: FutureWarning: The default value of `parser` will change from `'liac-arff'` to `'auto'` in 1.4. You can set `parser='auto'` to silence this warning. Therefore, an `ImportError` will be raised from 1.4 if the dataset is dense and pandas is not installed. Note that the pandas parser may return different data types. See the Notes Section in fetch_openml's API doc for details.\n",
            "  warn(\n"
          ]
        }
      ],
      "source": [
        "from sklearn.datasets import fetch_openml\n",
        "import tensorflow as tf\n",
        "from tensorflow.keras.models import Sequential\n",
        "from tensorflow.keras.layers import Dense\n",
        "import numpy as np\n",
        "\n",
        "dataset = fetch_openml(\"diabetes\", version=1, as_frame=True, return_X_y=False)[\"frame\"]"
      ]
    },
    {
      "cell_type": "markdown",
      "source": [
        "import all required dependencies and load in the dataset"
      ],
      "metadata": {
        "id": "iWw65f85jg-W"
      }
    },
    {
      "cell_type": "code",
      "source": [
        "print(type(dataset))\n",
        "print(dataset.head())"
      ],
      "metadata": {
        "colab": {
          "base_uri": "https://localhost:8080/"
        },
        "id": "LPmpG53-gRTL",
        "outputId": "3cc5b870-77ae-4a8d-9bbf-0f4f9bf18a90"
      },
      "execution_count": 17,
      "outputs": [
        {
          "output_type": "stream",
          "name": "stdout",
          "text": [
            "<class 'pandas.core.frame.DataFrame'>\n",
            "   preg   plas  pres  skin   insu  mass   pedi   age            class\n",
            "0   6.0  148.0  72.0  35.0    0.0  33.6  0.627  50.0  tested_positive\n",
            "1   1.0   85.0  66.0  29.0    0.0  26.6  0.351  31.0  tested_negative\n",
            "2   8.0  183.0  64.0   0.0    0.0  23.3  0.672  32.0  tested_positive\n",
            "3   1.0   89.0  66.0  23.0   94.0  28.1  0.167  21.0  tested_negative\n",
            "4   0.0  137.0  40.0  35.0  168.0  43.1  2.288  33.0  tested_positive\n"
          ]
        }
      ]
    },
    {
      "cell_type": "code",
      "source": [
        "import sqlite3\n",
        "\n",
        "connection = sqlite3.connect(\"diabetes.db\")\n",
        "cursor = connection.cursor()"
      ],
      "metadata": {
        "id": "a6q82-SygWp3"
      },
      "execution_count": 18,
      "outputs": []
    },
    {
      "cell_type": "markdown",
      "source": [
        "establish a SQL connection and create a new diabetes database"
      ],
      "metadata": {
        "id": "KVfdfYE8jqtj"
      }
    },
    {
      "cell_type": "code",
      "source": [
        "cursor.execute('DROP TABLE IF EXISTS diabetes')\n",
        "create_sql_query = \"\"\"\n",
        "    CREATE TABLE diabetes(\n",
        "        preg NUM,\n",
        "        plas NUM,\n",
        "        pres NUM,\n",
        "        skin NUM,\n",
        "        insu NUM,\n",
        "        mass NUM,\n",
        "        pedi NUM,\n",
        "        age NUM,\n",
        "        class TEXT\n",
        "    )\n",
        "\"\"\"\n",
        "cursor.execute(create_sql_query)\n",
        "\n",
        "\n"
      ],
      "metadata": {
        "colab": {
          "base_uri": "https://localhost:8080/"
        },
        "id": "VRlMgyikgZfn",
        "outputId": "b33ca716-4168-4c3a-f0e8-6db0c1fdc42a"
      },
      "execution_count": 19,
      "outputs": [
        {
          "output_type": "execute_result",
          "data": {
            "text/plain": [
              "<sqlite3.Cursor at 0x7b5424e6c2c0>"
            ]
          },
          "metadata": {},
          "execution_count": 19
        }
      ]
    },
    {
      "cell_type": "markdown",
      "source": [
        "create a table with the specified features which will be\n",
        "used to train a classifyer"
      ],
      "metadata": {
        "id": "i2fDDDFgj0lS"
      }
    },
    {
      "cell_type": "code",
      "source": [
        "insert_sql_query = \"INSERT INTO diabetes VALUES (?,?,?,?,?,?,?,?,?)\"\n",
        "data_rows = dataset.to_numpy().tolist()\n",
        "cursor.executemany(insert_sql_query, data_rows)\n"
      ],
      "metadata": {
        "colab": {
          "base_uri": "https://localhost:8080/"
        },
        "id": "HC8nFTquhUnM",
        "outputId": "0416a18d-83b2-4510-bc76-c13a71d137f4"
      },
      "execution_count": 20,
      "outputs": [
        {
          "output_type": "execute_result",
          "data": {
            "text/plain": [
              "<sqlite3.Cursor at 0x7b5424e6c2c0>"
            ]
          },
          "metadata": {},
          "execution_count": 20
        }
      ]
    },
    {
      "cell_type": "markdown",
      "source": [
        "repeatedly executes a SQL query that fills in the columns of the diabetes table of the database with the values extracted from the loaded dataset"
      ],
      "metadata": {
        "id": "2d05FoVOkMTw"
      }
    },
    {
      "cell_type": "code",
      "source": [
        "cursor.commit()\n",
        "cursor.close()"
      ],
      "metadata": {
        "id": "5JrKX4R6hcNn"
      },
      "execution_count": 21,
      "outputs": []
    },
    {
      "cell_type": "markdown",
      "source": [
        "close the connection with the server after inputting all the values into the diabetes table"
      ],
      "metadata": {
        "id": "8h0yIXptklrs"
      }
    },
    {
      "cell_type": "code",
      "source": [
        "def data_generator(batch_size):\n",
        "\n",
        "    connection = sqlite3.connect(\"diabetes.db\", check_same_thread=False)\n",
        "    cursor = connection.cursor()\n",
        "    sql_query = f\"\"\"\n",
        "        SELECT preg, plas, pres, skin, insu, mass, pedi, age, class\n",
        "        FROM diabetes\n",
        "        ORDER BY random()\n",
        "        LIMIT {batch_size}\n",
        "    \"\"\"\n",
        "    while True:\n",
        "        cursor.execute(sql_query)\n",
        "        ran_sample = cursor.fetchall()\n",
        "        X_train = [row[:-1] for row in ran_sample]\n",
        "        y_train = [1 if row[-1]==\"tested_positive\" else 0 for row in ran_sample]\n",
        "        yield np.asarray(X_train), np.asarray(y_train)\n",
        "\n",
        "\n",
        ""
      ],
      "metadata": {
        "id": "s7GkBDJShcO6"
      },
      "execution_count": 28,
      "outputs": []
    },
    {
      "cell_type": "markdown",
      "source": [
        "create a function that connects to the database and retrieves a random sample with a specified batch size. This labeled data will be used to train the classifying neural network."
      ],
      "metadata": {
        "id": "tWoHTloXlMNk"
      }
    },
    {
      "cell_type": "code",
      "source": [
        "model = Sequential()\n",
        "model.add(Dense(16, input_dim=8, activation='relu'))\n",
        "model.add(Dense(8, activation='relu'))\n",
        "model.add(Dense(1, activation='sigmoid'))\n",
        "model.compile(loss='binary_crossentropy', optimizer='adam', metrics=['accuracy'])"
      ],
      "metadata": {
        "id": "4TmHXbz0iDQz"
      },
      "execution_count": 23,
      "outputs": []
    },
    {
      "cell_type": "markdown",
      "source": [
        "creates a neural network with 3 layers and the third being the output layer."
      ],
      "metadata": {
        "id": "tCbrPs9YloSc"
      }
    },
    {
      "cell_type": "code",
      "source": [
        "history = model.fit(data_generator(300), epochs=5, steps_per_epoch=2000)\n"
      ],
      "metadata": {
        "colab": {
          "base_uri": "https://localhost:8080/"
        },
        "id": "AQ2x7tpCiUzP",
        "outputId": "3c287611-a792-43a9-dfd4-0a123912da89"
      },
      "execution_count": 29,
      "outputs": [
        {
          "output_type": "stream",
          "name": "stdout",
          "text": [
            "Epoch 1/5\n",
            "2000/2000 [==============================] - 11s 5ms/step - loss: 0.4296 - accuracy: 0.7944\n",
            "Epoch 2/5\n",
            "2000/2000 [==============================] - 10s 5ms/step - loss: 0.4118 - accuracy: 0.8046\n",
            "Epoch 3/5\n",
            "2000/2000 [==============================] - 11s 5ms/step - loss: 0.3983 - accuracy: 0.8099\n",
            "Epoch 4/5\n",
            "2000/2000 [==============================] - 12s 6ms/step - loss: 0.3918 - accuracy: 0.8118\n",
            "Epoch 5/5\n",
            "2000/2000 [==============================] - 11s 5ms/step - loss: 0.3840 - accuracy: 0.8158\n"
          ]
        }
      ]
    },
    {
      "cell_type": "markdown",
      "source": [
        "fit the model with the training data; in this case, we used 300 training examples."
      ],
      "metadata": {
        "id": "F6rMOxLdoDgM"
      }
    },
    {
      "cell_type": "code",
      "source": [
        "def testing_data_generator(batch_size):\n",
        "\n",
        "    connection = sqlite3.connect(\"diabetes.db\", check_same_thread=False)\n",
        "    cursor = connection.cursor()\n",
        "    sql_query = f\"\"\"\n",
        "        SELECT preg, plas, pres, skin, insu, mass, pedi, age, class\n",
        "        FROM diabetes\n",
        "        ORDER BY random()\n",
        "        LIMIT {batch_size}\n",
        "    \"\"\"\n",
        "    cursor.execute(sql_query)\n",
        "    ran_sample = cursor.fetchall()\n",
        "    X_test = [row[:-1] for row in ran_sample]\n",
        "    y_test = [1 if row[-1]==\"tested_positive\" else 0 for row in ran_sample]\n",
        "\n",
        "\n",
        "    return (np.asarray(y_test), model.predict(np.asarray(X_test)))\n",
        "\n",
        "tup = testing_data_generator(600)\n",
        "\n",
        "labels = tup[0]\n",
        "predictions = tup[1]\n",
        "\n",
        "confusion_matrix = tf.math.confusion_matrix(labels, predictions)\n",
        "\n",
        "print(confusion_matrix)\n",
        "\n",
        ""
      ],
      "metadata": {
        "colab": {
          "base_uri": "https://localhost:8080/"
        },
        "id": "63FT-2h5lyWn",
        "outputId": "150a31ec-9d26-47e4-97c8-82a9a649e32c"
      },
      "execution_count": 42,
      "outputs": [
        {
          "output_type": "stream",
          "name": "stdout",
          "text": [
            "19/19 [==============================] - 0s 3ms/step\n",
            "tf.Tensor(\n",
            "[[389   0]\n",
            " [205   6]], shape=(2, 2), dtype=int32)\n"
          ]
        }
      ]
    },
    {
      "cell_type": "markdown",
      "source": [
        "created a function to generate testing data. Used this function to test the model on 600 rows of data. Printed out the confusion matrix to show how the model performed."
      ],
      "metadata": {
        "id": "UhHJC1iepDaO"
      }
    }
  ]
}